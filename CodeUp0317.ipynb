{
 "cells": [
  {
   "cell_type": "code",
   "execution_count": 1,
   "metadata": {},
   "outputs": [
    {
     "name": "stdout",
     "output_type": "stream",
     "text": [
      " print(\"Hello\\nWorld\") \n"
     ]
    }
   ],
   "source": [
    "\"\"\"\n",
    "2021 - 03 - 14 \n",
    "아래의 코드들은 코드업 문제집 기초 100제의 문제들 입니다.\n",
    "전 문제 코드업에서 정확한 풀이 채점을 받은 풀이 입니다.\n",
    "\"\"\"\n",
    "\n",
    "# 6008번 문제\n",
    "# print(\"Hello\\nWorld\")\n",
    "# 위 코드를 정확히 그대로 출력하시오.(공백문자 주의)\n",
    "\n",
    "print(' print(\"Hello\\\\nWorld\") ');"
   ]
  },
  {
   "cell_type": "code",
   "execution_count": 2,
   "metadata": {},
   "outputs": [
    {
     "name": "stdout",
     "output_type": "stream",
     "text": [
      "d\n",
      "d\n"
     ]
    }
   ],
   "source": [
    "# 6009번 문제 \n",
    "# 변수에 문자 1개를 저장한 후\n",
    "# 변수에 저장되어 있는 문자를 그대로 출력해보자.\n",
    "\n",
    "uri = input();\n",
    "print(uri);"
   ]
  },
  {
   "cell_type": "code",
   "execution_count": 8,
   "metadata": {},
   "outputs": [
    {
     "name": "stdout",
     "output_type": "stream",
     "text": [
      "1\n",
      "1\n"
     ]
    }
   ],
   "source": [
    "# 6010번 문제\n",
    "# 변수에 정수값을 저장한 후\n",
    "# 변수에 저장되어 있는 값을 그대로 출력해보자.\n",
    "\n",
    "uri = input();\n",
    "print (uri);"
   ]
  },
  {
   "cell_type": "code",
   "execution_count": 13,
   "metadata": {},
   "outputs": [
    {
     "name": "stdout",
     "output_type": "stream",
     "text": [
      "0\n",
      "0\n",
      "0\n",
      "0\n"
     ]
    }
   ],
   "source": [
    "# 6011번 문제\n",
    "# 줄을 바꿔 정수(integer) 2개를 입력받아 줄을 바꿔 출력해보자.\n",
    "\n",
    "han = input();\n",
    "uri = input();\n",
    "print (han);\n",
    "print (uri);"
   ]
  },
  {
   "cell_type": "code",
   "execution_count": 20,
   "metadata": {},
   "outputs": [
    {
     "name": "stdout",
     "output_type": "stream",
     "text": [
      "b\n",
      "a\n"
     ]
    }
   ],
   "source": [
    "# 6012번 문제\n",
    "# 줄을 바꿔 문자(character) 2개를 입력받고, 순서를 바꿔 한 줄씩 출력해보자.\n",
    "\n",
    "han = input();\n",
    "uri = input();\n",
    "\n",
    "print(uri);\n",
    "print(han);"
   ]
  },
  {
   "cell_type": "code",
   "execution_count": 25,
   "metadata": {},
   "outputs": [
    {
     "name": "stdout",
     "output_type": "stream",
     "text": [
      "3\n",
      "3\n",
      "3\n",
      "3\n"
     ]
    }
   ],
   "source": [
    "# 6013번 문제\n",
    "# 실수(real number) 1개를 입력받아 줄을 바꿔 3번 출력해보자.\n",
    "\n",
    "uri = input();\n",
    "\n",
    "print(uri);\n",
    "print(uri);\n",
    "print(uri);\n"
   ]
  },
  {
   "cell_type": "code",
   "execution_count": 27,
   "metadata": {},
   "outputs": [
    {
     "name": "stdout",
     "output_type": "stream",
     "text": [
      "3 4 \n",
      "3\n",
      "4\n"
     ]
    }
   ],
   "source": [
    "# 6014번 문제\n",
    "# 공백을 두고 입력된정수(integer) 2개를 입력받아 줄을 바꿔 출력해보자.\n",
    "\n",
    "'''\n",
    "python의 input()은 한 줄 단위로 입력을 받는다.\n",
    "input().split() 를 사용하면, 공백을 기준으로 입력된 값들을 나누어(split) 자른다.\n",
    "'''\n",
    "\n",
    "han,uri = input().split();\n",
    "print(han);\n",
    "print(uri);\n"
   ]
  },
  {
   "cell_type": "code",
   "execution_count": 28,
   "metadata": {},
   "outputs": [
    {
     "name": "stdout",
     "output_type": "stream",
     "text": [
      "a b\n",
      "b\n",
      "a\n"
     ]
    }
   ],
   "source": [
    "# 6015번 문제 \n",
    "# 공백을 두고 문자(character) 2개를 입력받아 순서를 바꿔 출력해보자.\n",
    "uri,han = input().split();\n",
    "\n",
    "print(han);\n",
    "print(uri);"
   ]
  },
  {
   "cell_type": "code",
   "execution_count": 30,
   "metadata": {},
   "outputs": [
    {
     "name": "stdout",
     "output_type": "stream",
     "text": [
      "3\n",
      "3 3 3\n"
     ]
    }
   ],
   "source": [
    "# 6016번 문제\n",
    "# 정수(integer), 실수, 문자(character), 문자열(string) 등 \n",
    "# 1개만 입력받아 한 줄로 3번 출력해보자.\n",
    "\n",
    "uri = input();\n",
    "print(uri,uri,uri);"
   ]
  },
  {
   "cell_type": "code",
   "execution_count": 32,
   "metadata": {},
   "outputs": [
    {
     "name": "stdout",
     "output_type": "stream",
     "text": [
      "23:23\n",
      "23:23\n"
     ]
    }
   ],
   "source": [
    "# 6017번 문제\n",
    "# 24시간 시:분 형식으로 시간이 입력될 때, 그대로 출력하는 연습을 해보자.\n",
    "\n",
    "hour,minute = input().split(':');\n",
    "\n",
    "print(hour,minute,sep=':');\n",
    "\n",
    "# sep 는 분류기호(seperator)를 의미한다."
   ]
  },
  {
   "cell_type": "code",
   "execution_count": 34,
   "metadata": {},
   "outputs": [
    {
     "name": "stdout",
     "output_type": "stream",
     "text": [
      "1992.02.07\n",
      "07-02-1992\n"
     ]
    }
   ],
   "source": [
    "# 6018번 문제\n",
    "# \"연도.월.일\"을 입력받아 \"일-월-연도\" 순서로 바꿔 출력해보자.\n",
    "\n",
    "y,m,d = input().split('.');\n",
    "print(d,m,y,sep='-');"
   ]
  },
  {
   "cell_type": "code",
   "execution_count": 37,
   "metadata": {},
   "outputs": [
    {
     "name": "stdout",
     "output_type": "stream",
     "text": [
      "110011-0000000\n",
      "1100110000000\n"
     ]
    }
   ],
   "source": [
    "# 6019번 문제\n",
    "# 주민번호는 다음과 같이 구성된다.XXXXXX-XXXXXXX\n",
    "# 주민번호를 입력받아 형태를 바꿔 출력해보자.\n",
    "\n",
    "# '-'를 제외한 주민번호 13자리를 모두 붙여 출력한다.\n",
    "\n",
    "person_num_f, person_num_s = input().split('-');\n",
    "print(person_num_f,person_num_s,sep='');\n"
   ]
  },
  {
   "cell_type": "code",
   "execution_count": 40,
   "metadata": {},
   "outputs": [
    {
     "name": "stdout",
     "output_type": "stream",
     "text": [
      "han\n",
      "h\n",
      "a\n",
      "n\n"
     ]
    }
   ],
   "source": [
    "# 6020번 문제\n",
    "# 알파벳과 숫자로 이루어진 단어 1개가 입력된다.\n",
    "# 입력받은 단어의 각 문자를 한 줄에 한 문자씩 분리해 출력한다.\n",
    "\n",
    "uri = input();\n",
    "print(uri[0]);\n",
    "print(uri[1]);\n",
    "print(uri[2]);\n"
   ]
  },
  {
   "cell_type": "code",
   "execution_count": 3,
   "metadata": {},
   "outputs": [
    {
     "name": "stdout",
     "output_type": "stream",
     "text": [
      "23 23 23\n",
      "23\n",
      " 2\n",
      "3 \n",
      "23  2 3 \n"
     ]
    }
   ],
   "source": [
    "# 6021번 문제\n",
    "# 6자리의 연월일(YYMMDD)을 입력받아 나누어 출력해보자.\n",
    "\n",
    "uri = input();\n",
    "print(uri[0:2]);\n",
    "print(uri[2:4]);\n",
    "print(uri[4:6]);\n",
    "print(uri[0:2],uri[2:4],uri[4:6]);\n"
   ]
  },
  {
   "cell_type": "code",
   "execution_count": 4,
   "metadata": {},
   "outputs": [
    {
     "name": "stdout",
     "output_type": "stream",
     "text": [
      "23:23:23\n",
      "23\n"
     ]
    }
   ],
   "source": [
    "# 6022번 문제\n",
    "#시:분:초 형식으로 시간이 입력될 때 분만 출력해보자.\n",
    "\n",
    "uri = input().split(':');\n",
    "print(uri[1]);\n"
   ]
  },
  {
   "cell_type": "code",
   "execution_count": 5,
   "metadata": {},
   "outputs": [
    {
     "name": "stdout",
     "output_type": "stream",
     "text": [
      "asd 123\n",
      "asd123\n"
     ]
    }
   ],
   "source": [
    "# 6023번 문제\n",
    "# 알파벳 문자와 숫자로 이루어진 단어 2개를 입력받아\n",
    "# 순서대로 붙여 출력하는 프로그램을 작성해보자.\n",
    "\n",
    "han,uri = input().split();\n",
    "han_uri = han + uri;\n",
    "print(han_uri);\n"
   ]
  },
  {
   "cell_type": "code",
   "execution_count": 52,
   "metadata": {},
   "outputs": [
    {
     "name": "stdout",
     "output_type": "stream",
     "text": [
      "3 4 \n",
      "7\n"
     ]
    }
   ],
   "source": [
    "# 6024번 문제\n",
    "# 정수 2개를 입력받아\n",
    "# 합을 출력하는 프로그램을 작성해보자.\n",
    "# 공백을 두고 입력된다.\n",
    "\n",
    "han,uri = input().split();\n",
    "han_uri = int(han)+int(uri);\n",
    "print(han_uri);"
   ]
  },
  {
   "cell_type": "code",
   "execution_count": 6,
   "metadata": {},
   "outputs": [
    {
     "name": "stdout",
     "output_type": "stream",
     "text": [
      "0.4\n",
      "0.7\n",
      "1.1\n"
     ]
    }
   ],
   "source": [
    "# 6025번 문제\n",
    "# 실수 2개를 입력받아\n",
    "# 합을 출력하는 프로그램을 작성해보자.\n",
    "# 줄을 바꿔 입력된다.\n",
    "\n",
    "han = input();\n",
    "uri = input();\n",
    "\n",
    "han_uri = float(han)+float(uri);\n",
    "\n",
    "print(han_uri);"
   ]
  },
  {
   "cell_type": "code",
   "execution_count": 7,
   "metadata": {},
   "outputs": [
    {
     "name": "stdout",
     "output_type": "stream",
     "text": [
      "12\n",
      "c\n"
     ]
    }
   ],
   "source": [
    "# 6026번 문제\n",
    "# 10진수를 입력받아 16진수(hexadecimal)로 출력해보자.\n",
    "\n",
    "# x = 소문자 형태로 출력\n",
    "han = input();\n",
    "uri = int(han);\n",
    "print('%x'% uri);\n"
   ]
  },
  {
   "cell_type": "code",
   "execution_count": 8,
   "metadata": {},
   "outputs": [
    {
     "name": "stdout",
     "output_type": "stream",
     "text": [
      "12\n",
      "C\n"
     ]
    }
   ],
   "source": [
    "# 6027번 문제 \n",
    "# X = 대문자 형태로 출력\n",
    "han = input();\n",
    "uri = int(han);\n",
    "print('%X'% uri);"
   ]
  },
  {
   "cell_type": "code",
   "execution_count": 9,
   "metadata": {},
   "outputs": [
    {
     "name": "stdout",
     "output_type": "stream",
     "text": [
      "f\n",
      "17\n"
     ]
    }
   ],
   "source": [
    "# 6028번 문제 \n",
    "# 16진수를 입력받아 8진수(octal)로 출력해보자.\n",
    "\n",
    "a = input();\n",
    "\n",
    "b = int(a,16);\n",
    "\n",
    "print('%o' %b);"
   ]
  },
  {
   "cell_type": "code",
   "execution_count": 11,
   "metadata": {},
   "outputs": [
    {
     "name": "stdout",
     "output_type": "stream",
     "text": [
      "A\n",
      "65\n"
     ]
    }
   ],
   "source": [
    "# 6029번 문제\n",
    "# 영문자 1개를 입력받아 10진수 유니코드(Unicode) 값으로 출력해보자.\n",
    "\n",
    "han = ord(input());\n",
    "print(han);\n"
   ]
  },
  {
   "cell_type": "code",
   "execution_count": 12,
   "metadata": {},
   "outputs": [
    {
     "name": "stdout",
     "output_type": "stream",
     "text": [
      "65\n",
      "A\n"
     ]
    }
   ],
   "source": [
    "# 6030번 문제\n",
    "#10진 정수 1개를 입력받아 유니코드 문자로 출력해보자.\n",
    "\n",
    "han = int(input());\n",
    "\n",
    "print(chr(han));\n"
   ]
  },
  {
   "cell_type": "code",
   "execution_count": 16,
   "metadata": {},
   "outputs": [
    {
     "name": "stdout",
     "output_type": "stream",
     "text": [
      "1\n",
      "-1\n"
     ]
    }
   ],
   "source": [
    "# 6031번 문제\n",
    "# 입력된 정수의 부호를 바꿔 출력해보자.\n",
    "\n",
    "n = input();\n",
    "print(-int(n));"
   ]
  },
  {
   "cell_type": "code",
   "execution_count": 21,
   "metadata": {},
   "outputs": [
    {
     "name": "stdout",
     "output_type": "stream",
     "text": [
      "a\n",
      "b\n"
     ]
    }
   ],
   "source": [
    "# 6032번 문제\n",
    "# 문자 1개를 입력받아 그 다음 문자를 출력해보자.\n",
    "\n",
    "han = ord(input());\n",
    "\n",
    "print(chr(han+1));\n"
   ]
  },
  {
   "cell_type": "code",
   "execution_count": 26,
   "metadata": {},
   "outputs": [
    {
     "name": "stdout",
     "output_type": "stream",
     "text": [
      "3 2\n",
      "1\n"
     ]
    }
   ],
   "source": [
    "# 6033번 문제\n",
    "# 정수 2개(a, b)를 입력받아 a에서 b를 뺀 차를 출력해보자.\n",
    "\n",
    "a,b = input().split();\n",
    "\n",
    "result = int(a) - int(b);\n",
    "\n",
    "print(result);\n"
   ]
  },
  {
   "cell_type": "code",
   "execution_count": 27,
   "metadata": {},
   "outputs": [
    {
     "name": "stdout",
     "output_type": "stream",
     "text": [
      "0.2 0.9\n",
      "0.18000000000000002\n"
     ]
    }
   ],
   "source": [
    "# 6034번 문제\n",
    "# 실수 2개(f1, f2)를 입력받아 곱을 출력하는 프로그램을 작성해보자.\n",
    "\n",
    "f1,f2 = input().split();\n",
    "\n",
    "result = float(f1)*float(f2);\n",
    "\n",
    "print(result);\n"
   ]
  },
  {
   "cell_type": "code",
   "execution_count": 28,
   "metadata": {},
   "outputs": [
    {
     "name": "stdout",
     "output_type": "stream",
     "text": [
      "love 3\n",
      "lovelovelove\n"
     ]
    }
   ],
   "source": [
    "# 6035번 문제\n",
    "# 단어와 반복 횟수를 입력받아 여러 번 출력해보자.\n",
    "\n",
    "han,uri = input().split();\n",
    "print(han*int(uri));"
   ]
  },
  {
   "cell_type": "code",
   "execution_count": 30,
   "metadata": {},
   "outputs": [
    {
     "name": "stdout",
     "output_type": "stream",
     "text": [
      "3\n",
      "I love CS\n",
      "I love CSI love CSI love CS\n"
     ]
    }
   ],
   "source": [
    "# 6036번 문제\n",
    "# 반복 횟수와 문장을 입력받아 여러 번 출력해보자.\n",
    "# 입력은 따로 받기로 한다.\n",
    "re_num = input();\n",
    "re_word = input();\n",
    "\n",
    "print(int(re_num)*re_word);\n"
   ]
  },
  {
   "cell_type": "code",
   "execution_count": 32,
   "metadata": {},
   "outputs": [
    {
     "name": "stdout",
     "output_type": "stream",
     "text": [
      "2 4\n",
      "16\n"
     ]
    }
   ],
   "source": [
    "# 6037번 문제\n",
    "# 정수 2개(a, b)를 입력받아\n",
    "# a를 b번 곱한 거듭제곱을 출력하는 프로그램을 작성해보자.\n",
    "\n",
    "a,b = input().split();\n",
    "\n",
    "print(int(a)**int(b));"
   ]
  },
  {
   "cell_type": "code",
   "execution_count": 34,
   "metadata": {},
   "outputs": [
    {
     "name": "stdout",
     "output_type": "stream",
     "text": [
      "4.0 0.5\n",
      "2.0\n"
     ]
    }
   ],
   "source": [
    "# 6038번 문제\n",
    "# 실수 2개(f1, f2)를 입력받아\n",
    "# f1을 f2번 거듭제곱한 값을 출력하는 프로그램을 작성해보자.\n",
    "\n",
    "f1,f2 = input().split();\n",
    "\n",
    "print(float(f1)**float(f2));"
   ]
  },
  {
   "cell_type": "code",
   "execution_count": 37,
   "metadata": {},
   "outputs": [
    {
     "name": "stdout",
     "output_type": "stream",
     "text": [
      "3 1\n",
      "3\n"
     ]
    }
   ],
   "source": [
    "# 6040번 문제\n",
    "# 정수 2개(a, b) 를 입력받아 a를 b로 나눈 몫을 출력해보자.\n",
    "\n",
    "a,b = input().split();\n",
    "\n",
    "print(int(a)//int(b));\n",
    "\n",
    "# / 일반 나누기\n",
    "# // 몫 구하기 \n",
    "# % 나머지 구하기"
   ]
  },
  {
   "cell_type": "code",
   "execution_count": 38,
   "metadata": {},
   "outputs": [
    {
     "name": "stdout",
     "output_type": "stream",
     "text": [
      "3 2\n",
      "1\n"
     ]
    }
   ],
   "source": [
    "# 6041번 문제\n",
    "# 정수 2개(a, b) 를 입력받아 a를 b로 나눈 나머지를 출력해보자.\n",
    "\n",
    "a,b = input().split();\n",
    "\n",
    "print(int(a)%int(b));\n"
   ]
  },
  {
   "cell_type": "code",
   "execution_count": 40,
   "metadata": {},
   "outputs": [
    {
     "name": "stdout",
     "output_type": "stream",
     "text": [
      "3.141592\n",
      "3.14\n"
     ]
    }
   ],
   "source": [
    "# 6042번 문제\n",
    "# 실수 1개를 입력받아\n",
    "# 소숫점 이하 두 번째 자리까지의 정확도로 반올림한 값을 출력해보자.\n",
    "\n",
    "han = input();\n",
    "\n",
    "print(round(float(han),2));\n"
   ]
  },
  {
   "cell_type": "code",
   "execution_count": 43,
   "metadata": {},
   "outputs": [
    {
     "name": "stdout",
     "output_type": "stream",
     "text": [
      "10 3\n",
      "3.333\n"
     ]
    }
   ],
   "source": [
    "# 6043번 문제\n",
    "# 실수 2개(f1, f2)를 입력받아 f1 을 f2 로 나눈 값을 출력해보자. \n",
    "# 이 때 소숫점 넷째자리에서 반올림하여 무조건 소숫점 셋째 자리까지 출력한다.\n",
    "\n",
    "f1,f2 = input().split();\n",
    "\n",
    "result = float(f1)/float(f2);\n",
    "\n",
    "print('%.3f'%result);"
   ]
  },
  {
   "cell_type": "code",
   "execution_count": 46,
   "metadata": {},
   "outputs": [
    {
     "name": "stdout",
     "output_type": "stream",
     "text": [
      "10 3\n",
      "13\n",
      "7\n",
      "30\n",
      "3\n",
      "1\n",
      "3.33\n"
     ]
    }
   ],
   "source": [
    "# 6044번 문제\n",
    "# 정수 2개(a, b)를 입력받아 합, 차, 곱, 몫, 나머지, 나눈 값을 \n",
    "# 자동으로 계산해보자.\n",
    "\n",
    "# 여섯 번째 줄에 나눈 값을 순서대로 출력한다.\n",
    "# (실수, 소수점 이하 둘째 자리까지의 정확도로 출력)\n",
    "\n",
    "a,b = input().split();\n",
    "result_a = int(a);\n",
    "result_b = int(b);\n",
    "\n",
    "print(result_a+result_b);\n",
    "print(result_a-result_b);\n",
    "print(result_a*result_b);\n",
    "print(result_a//result_b);\n",
    "print(result_a%result_b);\n",
    "print(round(result_a/result_b,2));"
   ]
  },
  {
   "cell_type": "code",
   "execution_count": 49,
   "metadata": {},
   "outputs": [
    {
     "name": "stdout",
     "output_type": "stream",
     "text": [
      "10 3 96\n",
      "109 36.33\n"
     ]
    }
   ],
   "source": [
    "# 6045번 문제 \n",
    "# 정수 3개를 입력받아 합과 평균을 출력해보자.\n",
    "\n",
    "a,b,c = input().split();\n",
    "\n",
    "result_a = int(a);\n",
    "result_b = int(b);\n",
    "result_c = int(c);\n",
    "\n",
    "result_sum = result_a+result_b+result_c;\n",
    "\n",
    "print(result_sum,round(result_sum/3,2));\n",
    "\n",
    "\n",
    "\n",
    "\"\"\"\n",
    "python 프로그래밍을 처음 배울 때 좋은 습관(단계)\n",
    "1. 입력된 문자열을 정확하게 잘라낸다.\n",
    "(공백, 줄바꿈, 구분문자 등에 따라 정확하게 잘라낸다.)\n",
    "\n",
    "2. 잘라낸 데이터들을 데이터형에 맞게 변환해 변수에 저장한다. \n",
    "(정수, 실수, 문자, 문자열 등에 따라 정확하게 변환한다.)\n",
    "\n",
    "3. 값을 저장했다가 다시 사용하기 위해, 변수를 이용해 값을 저장하고, \n",
    "변수를 이용해 계산을 한다.\n",
    "\n",
    "4. 원하는 결과 값을 필요한 형태로 만들어 출력한다.\n",
    "(공백, 줄바꿈, 구분자, 등에 따라 원하는 형태로 만들어 출력한다.)\n",
    "\"\"\"\n",
    "\n",
    "\n",
    "\n"
   ]
  },
  {
   "cell_type": "code",
   "execution_count": 51,
   "metadata": {},
   "outputs": [
    {
     "name": "stdout",
     "output_type": "stream",
     "text": [
      "20\n",
      "40\n"
     ]
    }
   ],
   "source": [
    "# 6046번 문제\n",
    "# 정수 1개를 입력받아 2배 곱해 출력해보자.\n",
    "\n",
    "\"\"\"\n",
    "2진수 형태로 저장되어 있는 값들을 왼쪽(<<)이나 오른쪽(>>)으로\n",
    "지정한 비트 수만큼 밀어주면 2배씩 늘어나거나 1/2로 줄어드는데,\n",
    "\n",
    "왼쪽 비트시프트(<<)가 될 때에는 오른쪽에 0이 주어진 개수만큼 추가되고,\n",
    "오른쪽 비트시프트(>>)가 될 때에는 왼쪽에 0(0 또는 양의 정수인 경우)이나 1(음의 정수인 경우)이 개수만큼 추가되고,\n",
    "가장 오른쪽에 있는 1비트는 사라진다.\n",
    "\n",
    "예시\n",
    "n = 10\n",
    "print(n<<1)  #10을 2배 한 값인 20 이 출력된다.\n",
    "print(n>>1)  #10을 반으로 나눈 값인 5 가 출력된다.\n",
    "print(n<<2)  #10을 4배 한 값인 40 이 출력된다.\n",
    "print(n>>2)  #10을 반으로 나눈 후 다시 반으로 나눈 값인 2 가 출력된다.\n",
    "\n",
    "정수 10의 2진수 표현은 ... 1010 이다.\n",
    "10 << 1 을 계산하면 ... 10100 이 된다 이 값은 10진수로 20이다.\n",
    "10 >> 1 을 계산하면 ... 101 이 된다. 이 값은 10진수로 5이다.\n",
    "\"\"\"\n",
    "\n",
    "han = input();\n",
    "\n",
    "print(int(han)<<1);"
   ]
  },
  {
   "cell_type": "code",
   "execution_count": 53,
   "metadata": {},
   "outputs": [
    {
     "name": "stdout",
     "output_type": "stream",
     "text": [
      "2 30\n",
      "2147483648\n"
     ]
    }
   ],
   "source": [
    "# 6047번 문제\n",
    "# 정수 2개(a, b)를 입력받아 a를 2b배 곱한 값으로 출력해보자.\n",
    "# 0 <= a <= 10, 0 <= b <= 10\n",
    "\n",
    "a,b = input().split();\n",
    "\n",
    "print(int(a)<<int(b));"
   ]
  },
  {
   "cell_type": "code",
   "execution_count": 73,
   "metadata": {},
   "outputs": [
    {
     "name": "stdout",
     "output_type": "stream",
     "text": [
      "10 3\n",
      "False\n"
     ]
    }
   ],
   "source": [
    "# 6048번 문제\n",
    "# 두 정수(a, b)를 입력받아 a가 b보다 작으면 True 를, \n",
    "# a가 b보다 크거나 같으면 False 를 출력하는 프로그램을 작성해보자.\n",
    "\n",
    "a,b = input().split();\n",
    "\n",
    "result_a = int(a);\n",
    "\n",
    "result_b = int(b);\n",
    "\n",
    "print(result_a<result_b);"
   ]
  },
  {
   "cell_type": "code",
   "execution_count": 76,
   "metadata": {},
   "outputs": [
    {
     "name": "stdout",
     "output_type": "stream",
     "text": [
      "2 3\n",
      "False\n"
     ]
    }
   ],
   "source": [
    "# 6049번 문제\n",
    "# 두 정수(a, b)를 입력받아 a와 b의 값이 같으면 True 를, \n",
    "# 같지 않으면 False 를 출력하는 프로그램을 작성해보자.\n",
    "\n",
    "a,b = input().split();\n",
    "\n",
    "result_a = int(a);\n",
    "result_b = int(b);\n",
    "\n",
    "print(result_a == result_b);"
   ]
  },
  {
   "cell_type": "code",
   "execution_count": 81,
   "metadata": {},
   "outputs": [
    {
     "name": "stdout",
     "output_type": "stream",
     "text": [
      "1 1\n",
      "True\n"
     ]
    }
   ],
   "source": [
    "# 6050번 문제\n",
    "# 두 정수(a, b)를 입력받아 b의 값이 a의 값 보다 크거나 같으면 True 를, \n",
    "# 같지 않으면 False 를 출력하는 프로그램을 작성해보자.\n",
    "\n",
    "a,b = input().split();\n",
    "\n",
    "result_a = int(a);\n",
    "result_b = int(b);\n",
    "\n",
    "print(result_a<=result_b);"
   ]
  },
  {
   "cell_type": "code",
   "execution_count": 83,
   "metadata": {},
   "outputs": [
    {
     "name": "stdout",
     "output_type": "stream",
     "text": [
      "1 2\n",
      "True\n"
     ]
    }
   ],
   "source": [
    "# 6051번 문제\n",
    "# 두 정수(a, b)를 입력받아 a의 값이 b의 값과 서로 다르면 True 를, \n",
    "# 같으면 False 를 출력하는 프로그램을 작성해보자.\n",
    "\n",
    "a,b = input().split();\n",
    "\n",
    "result_a = int(a);\n",
    "result_b = int(b);\n",
    "\n",
    "print(result_a != result_b);\n"
   ]
  },
  {
   "cell_type": "code",
   "execution_count": 91,
   "metadata": {},
   "outputs": [
    {
     "name": "stdout",
     "output_type": "stream",
     "text": [
      "2\n",
      "True\n"
     ]
    }
   ],
   "source": [
    "# 6052번 문제\n",
    "# 정수가 입력되었을 때, True/False 로 평가해주는 프로그램을 작성해보자.\n",
    "# 입력된 값이 0이면 False, 0이 아니면 True 를 출력한다.\n",
    "\n",
    "han = input();\n",
    "\n",
    "print(bool(int(han) != 0));\n"
   ]
  },
  {
   "cell_type": "code",
   "execution_count": 93,
   "metadata": {},
   "outputs": [
    {
     "name": "stdout",
     "output_type": "stream",
     "text": [
      "1\n",
      "False\n"
     ]
    }
   ],
   "source": [
    "# 6053번 문제\n",
    "# 정수값이 입력될 때,\n",
    "# 그 불 값을 반대로 출력하는 프로그램을 작성해보자.\n",
    "\n",
    "\n",
    "han = input();\n",
    "\n",
    "print(not bool(int(han)));\n",
    "\n"
   ]
  },
  {
   "cell_type": "code",
   "execution_count": 96,
   "metadata": {},
   "outputs": [
    {
     "name": "stdout",
     "output_type": "stream",
     "text": [
      "2 1\n",
      "True\n"
     ]
    }
   ],
   "source": [
    "# 6054번 문제\n",
    "# 2개의 정수값이 입력될 때,\n",
    "# 그 불 값이 모두 True 일 때에만 True 를 출력하는 프로그램을 작성해보자.\n",
    "\n",
    "a,b = input().split();\n",
    "\n",
    "print(bool(int(a)) and bool(int(b)));"
   ]
  },
  {
   "cell_type": "code",
   "execution_count": 97,
   "metadata": {},
   "outputs": [
    {
     "name": "stdout",
     "output_type": "stream",
     "text": [
      "1 1\n",
      "True\n"
     ]
    }
   ],
   "source": [
    "# 6055번 문제\n",
    "# 2개의 정수값이 입력될 때,\n",
    "# 그 불 값이 하나라도 True 일 때에만 True 를 출력하는 프로그램을 작성해보자.\n",
    "\n",
    "a,b = input().split();\n",
    "\n",
    "print(bool(int(a)) or bool(int(b)));"
   ]
  },
  {
   "cell_type": "code",
   "execution_count": 98,
   "metadata": {},
   "outputs": [
    {
     "name": "stdout",
     "output_type": "stream",
     "text": [
      "1 1\n",
      "False\n"
     ]
    }
   ],
   "source": [
    "# 6056번 문제\n",
    "# 2개의 정수값이 입력될 때,\n",
    "# 그 불 값(True/False) 이 서로 다를 때에만 True 를 출력하는 프로그램을 작성해보자.\n",
    "\n",
    "a,b = input().split();\n",
    "\n",
    "result_a = bool(int(a));\n",
    "\n",
    "result_b = bool(int(b));\n",
    "\n",
    "\n",
    "print((result_a and (not result_b)) or ((not result_a) and result_b));\n"
   ]
  },
  {
   "cell_type": "code",
   "execution_count": 99,
   "metadata": {},
   "outputs": [
    {
     "name": "stdout",
     "output_type": "stream",
     "text": [
      "1 1\n",
      "True\n"
     ]
    }
   ],
   "source": [
    "# 6057번 문제\n",
    "# 2개의 정수값이 입력될 때,\n",
    "# 그 불 값(True/False) 이 서로 같을 때에만 True 를 출력하는 프로그램을 작성해보자\n",
    "\n",
    "a,b = input().split();\n",
    "\n",
    "result_a = bool(int(a));\n",
    "result_b = bool(int(b));\n",
    "\n",
    "print(result_a == result_b);"
   ]
  },
  {
   "cell_type": "code",
   "execution_count": 109,
   "metadata": {},
   "outputs": [
    {
     "name": "stdout",
     "output_type": "stream",
     "text": [
      "1 1\n",
      "False\n"
     ]
    }
   ],
   "source": [
    "# 6058번 문제\n",
    "# 2개의 정수값이 입력될 때,\n",
    "# 그 불 값(True/False) 이 모두 False 일 때에만 True 를 출력하는 프로그램을 작성해보자.\n",
    "\n",
    "a,b = input().split();\n",
    "\n",
    "result_a = bool(int(a));\n",
    "result_b = bool(int(b));\n",
    "\n",
    "print(not (result_a) and not(result_b));"
   ]
  },
  {
   "cell_type": "code",
   "execution_count": 111,
   "metadata": {},
   "outputs": [
    {
     "name": "stdout",
     "output_type": "stream",
     "text": [
      "1\n",
      "-2\n"
     ]
    }
   ],
   "source": [
    "# 6059번 문제\n",
    "# 입력 된 정수를 비트단위로 참/거짓을 바꾼 후 정수로 출력해보자.\n",
    "\n",
    "han = input();\n",
    "\n",
    "print(~int(han));\n",
    "\n",
    "\"\"\"\n",
    "** 비트단위(bitwise) 연산자는,\n",
    "~(bitwise not), &(bitwise and), |(bitwise or), ^(bitwise xor),\n",
    "<<(bitwise left shift), >>(bitwise right shift)\n",
    "가 있다.\n",
    "\n",
    "정수 n이라고 할 때,\n",
    "~n = -n - 1\n",
    "-n = ~n + 1 \n",
    "\"\"\"\n"
   ]
  },
  {
   "cell_type": "code",
   "execution_count": 113,
   "metadata": {},
   "outputs": [
    {
     "name": "stdout",
     "output_type": "stream",
     "text": [
      "3 4\n",
      "0\n"
     ]
    },
    {
     "data": {
      "text/plain": [
       "'\\n비트단위 and 연산은 두 비트열이 주어졌을 때,\\n둘 다 1인 부분의 자리만 1로 만들어주는 것과 같다.\\n'"
      ]
     },
     "execution_count": 113,
     "metadata": {},
     "output_type": "execute_result"
    }
   ],
   "source": [
    "# 6060번 문제\n",
    "# 입력된 정수 두 개를 비트단위로 and 연산한 후 그 결과를 정수로 출력해보자.\n",
    "\n",
    "a,b = input().split();\n",
    "\n",
    "result_a = int(a);\n",
    "result_b = int(b);\n",
    "\n",
    "print(result_a & result_b);\n",
    "\n",
    "\n",
    "\"\"\"\n",
    "비트단위 and 연산은 두 비트열이 주어졌을 때,\n",
    "둘 다 1인 부분의 자리만 1로 만들어주는 것과 같다.\n",
    "\n",
    "예를 들어 3과 5가 입력되었을 때를 살펴보면\n",
    "3       : 00000000 00000000 00000000 00000011\n",
    "5       : 00000000 00000000 00000000 00000101\n",
    "3 & 5   : 00000000 00000000 00000000 00000001\n",
    "이 된다.\n",
    "\n",
    "\"\"\""
   ]
  },
  {
   "cell_type": "code",
   "execution_count": 115,
   "metadata": {},
   "outputs": [
    {
     "name": "stdout",
     "output_type": "stream",
     "text": [
      "3 5\n",
      "7\n"
     ]
    }
   ],
   "source": [
    "# 6061번 문제\n",
    "# 입력된 정수 두 개를 비트단위로 or 연산한 후 그 결과를 정수로 출력해보자.\n",
    "\n",
    "a,b = input().split();\n",
    "\n",
    "result_a = int(a);\n",
    "result_b = int(b);\n",
    "\n",
    "print(result_a | result_b);\n",
    "\n",
    "\"\"\"\n",
    "비트단위 or 연산은 둘 중 하나라도 1인 자리를 1로 만들어주는 것과 같다.\n",
    "3과 5가 입력되었을 때를 살펴보면\n",
    "3      : 00000000 00000000 00000000 00000011\n",
    "5      : 00000000 00000000 00000000 00000101\n",
    "3 | 5  : 00000000 00000000 00000000 00000111\n",
    "이 된다.\n",
    "\"\"\"\n"
   ]
  },
  {
   "cell_type": "code",
   "execution_count": 116,
   "metadata": {},
   "outputs": [
    {
     "name": "stdout",
     "output_type": "stream",
     "text": [
      "3 4\n",
      "7\n"
     ]
    },
    {
     "data": {
      "text/plain": [
       "'\\n예를 들어 3과 5가 입력되었을 때를 살펴보면\\n3       : 00000000 00000000 00000000 00000011\\n5       : 00000000 00000000 00000000 00000101\\n3 ^ 5 : 00000000 00000000 00000000 00000110\\n이 된다.\\n'"
      ]
     },
     "execution_count": 116,
     "metadata": {},
     "output_type": "execute_result"
    }
   ],
   "source": [
    "# 6062번 문제\n",
    "# 입력된 정수 두 개를 비트단위로 xor 연산한 후 그 결과를 정수로 출력해보자.\n",
    "\n",
    "a,b = input().split();\n",
    "\n",
    "result_a = int(a);\n",
    "result_b = int(b);\n",
    "\n",
    "print(result_a ^ result_b);\n",
    "\n",
    "\"\"\"\n",
    "예를 들어 3과 5가 입력되었을 때를 살펴보면\n",
    "3       : 00000000 00000000 00000000 00000011\n",
    "5       : 00000000 00000000 00000000 00000101\n",
    "3 ^ 5 : 00000000 00000000 00000000 00000110\n",
    "이 된다.\n",
    "\"\"\""
   ]
  },
  {
   "cell_type": "code",
   "execution_count": 118,
   "metadata": {},
   "outputs": [
    {
     "name": "stdout",
     "output_type": "stream",
     "text": [
      "4 1\n",
      "4\n"
     ]
    }
   ],
   "source": [
    "# 6063번 문제\n",
    "# 입력된 두 정수(a, b) 중 큰 값을 출력하는 프로그램을 작성해보자.\n",
    "# 단, 3항 연산을 사용한다.\n",
    "\n",
    "a,b = input().split();\n",
    "\n",
    "result_a = int(a);\n",
    "result_b = int(b);\n",
    "\n",
    "result = (result_a if (result_a>=result_b) else result_b)\n",
    "\n",
    "print(int(result));\n"
   ]
  },
  {
   "cell_type": "code",
   "execution_count": 126,
   "metadata": {},
   "outputs": [
    {
     "name": "stdout",
     "output_type": "stream",
     "text": [
      "1 3 6\n",
      "1\n"
     ]
    }
   ],
   "source": [
    "# 6064번 문제\n",
    "# 입력된 세 정수 a, b, c 중 가장 작은 값을 출력하는 프로그램을 작성해보자.\n",
    "# 단, 3항 연산을 사용한다.\n",
    "\n",
    "a,b,c = input().split();\n",
    "\n",
    "result_a = int(a);\n",
    "result_b = int(b);\n",
    "result_c = int(c);\n",
    "\n",
    "result = (result_b if result_a>result_b else result_a) if ((result_b if result_a>result_b else result_a)<result_c) else c \n",
    "\n",
    "print(int(result));\n"
   ]
  },
  {
   "cell_type": "code",
   "execution_count": 3,
   "metadata": {},
   "outputs": [
    {
     "name": "stdout",
     "output_type": "stream",
     "text": [
      "1 2 4\n",
      "2\n",
      "4\n"
     ]
    }
   ],
   "source": [
    "# 6065번 문제\n",
    "# 3개의 정수(a, b, c)가 입력되었을 때, 짝수만 출력해보자.\n",
    "\n",
    "a,b,c = input().split();\n",
    "\n",
    "result_a = int(a);\n",
    "result_b = int(b);\n",
    "result_c = int(c);\n",
    "\n",
    "if result_a%2 == 0 :\n",
    "    print(a);\n",
    "if result_b%2 == 0 :\n",
    "    print(b);\n",
    "if result_c%2 == 0 :\n",
    "    print(c);\n"
   ]
  },
  {
   "cell_type": "code",
   "execution_count": 4,
   "metadata": {},
   "outputs": [
    {
     "name": "stdout",
     "output_type": "stream",
     "text": [
      "2 1 4\n",
      "even\n",
      "odd\n",
      "even\n"
     ]
    }
   ],
   "source": [
    "# 6066번 문제\n",
    "# 3개의 정수(a, b, c)가 입력되었을 때, 짝(even)/홀(odd)을 출력해보자.\n",
    "\n",
    "a,b,c = input().split();\n",
    "\n",
    "result_a = int(a);\n",
    "result_b = int(b);\n",
    "result_c = int(c);\n",
    "\n",
    "if result_a % 2 == 0:\n",
    "    print(\"even\");\n",
    "else :\n",
    "    print(\"odd\");\n",
    "\n",
    "if result_b % 2 == 0:\n",
    "    print(\"even\");\n",
    "else :\n",
    "    print(\"odd\");\n",
    "    \n",
    "if result_c % 2 == 0:\n",
    "    print(\"even\");\n",
    "else :\n",
    "    print(\"odd\");"
   ]
  },
  {
   "cell_type": "code",
   "execution_count": 8,
   "metadata": {},
   "outputs": [
    {
     "name": "stdout",
     "output_type": "stream",
     "text": [
      "-2\n",
      "A\n"
     ]
    }
   ],
   "source": [
    "# 6067번 문제\n",
    "# 0이 아닌 정수 1개가 입력되었을 때, 음(-)/양(+)과 짝(even)/홀(odd)을 구분해 분류해보자.\n",
    "# 음수이면서 짝수이면, A 음수이면서 홀수이면, B\n",
    "# 양수이면서 짝수이면, C 양수이면서 홀수이면, D 를 출력한다.\n",
    "\n",
    "a = input();\n",
    "\n",
    "n = int(a);\n",
    "\n",
    "if n<0:\n",
    "    if n%2 == 0:\n",
    "        print('A');\n",
    "    else :\n",
    "        print('B');\n",
    "else :\n",
    "    if n%2 == 0:\n",
    "        print('C');\n",
    "    else :\n",
    "        print('D');\n",
    "        \n"
   ]
  },
  {
   "cell_type": "code",
   "execution_count": 11,
   "metadata": {},
   "outputs": [
    {
     "name": "stdout",
     "output_type": "stream",
     "text": [
      "55\n",
      "C\n",
      "C\n"
     ]
    }
   ],
   "source": [
    "# 6068번 문제\n",
    "# 점수(정수, 0 ~ 100)를 입력받아 평가를 출력해보자.\n",
    "\n",
    "# 평가 기준\n",
    "# 점수 범위 : 평가\n",
    "# 90 ~ 100 : A\n",
    "# 70 ~   89 : B\n",
    "# 40 ~   69 : C\n",
    "#  0 ~   39 : D\n",
    "# 로 평가되어야 한다.\n",
    "\n",
    "a = input();\n",
    "\n",
    "n = int(a);\n",
    "\n",
    "if n>=90:\n",
    "    print('A');\n",
    "else :\n",
    "    if n>=70:\n",
    "        print('B');\n",
    "    else :\n",
    "        if n>=40:\n",
    "            print('C');\n",
    "        else :\n",
    "            print('D');\n",
    "\n",
    "################# elif 사용            \n",
    "if n>=90:\n",
    "    print('A');\n",
    "elif n>=70:\n",
    "    print('B');\n",
    "elif n>=40:\n",
    "    print('C');\n",
    "else :\n",
    "    print('D');\n",
    "    "
   ]
  },
  {
   "cell_type": "code",
   "execution_count": 12,
   "metadata": {},
   "outputs": [
    {
     "name": "stdout",
     "output_type": "stream",
     "text": [
      "A\n",
      "best!!!\n"
     ]
    }
   ],
   "source": [
    "# 6069번 문제\n",
    "# 평가를 문자(A, B, C, D, ...)로 입력받아 내용을 다르게 출력해보자.\n",
    "\n",
    "n = input();\n",
    "\n",
    "if n == 'A' :\n",
    "    print(\"best!!!\");\n",
    "elif n == 'B' :\n",
    "    print(\"good!!\");\n",
    "elif n == 'C' :\n",
    "    print(\"run!\");\n",
    "elif n == 'D' :\n",
    "    print(\"slowly~\");\n",
    "else :\n",
    "    print(\"what?\");"
   ]
  },
  {
   "cell_type": "code",
   "execution_count": 15,
   "metadata": {},
   "outputs": [
    {
     "name": "stdout",
     "output_type": "stream",
     "text": [
      "12\n",
      "winter\n"
     ]
    }
   ],
   "source": [
    "# 6070번 문제\n",
    "# 월이 입력될 때 계절 이름이 출력되도록 해보자.\n",
    "\n",
    "month = input();\n",
    "\n",
    "n = int(month);\n",
    "\n",
    "if 0<n<3 :\n",
    "    print(\"winter\");\n",
    "elif 2<n<6 :\n",
    "    print(\"spring\");\n",
    "elif 5<n<9 :\n",
    "    print(\"summer\");\n",
    "elif 8<n<12 :\n",
    "    print (\"fall\");\n",
    "else :\n",
    "    print(\"winter\");\n",
    "    \n"
   ]
  },
  {
   "cell_type": "code",
   "execution_count": 9,
   "metadata": {},
   "outputs": [
    {
     "name": "stdout",
     "output_type": "stream",
     "text": [
      "1\n",
      "1\n",
      "5\n",
      "5\n",
      "0\n"
     ]
    }
   ],
   "source": [
    "# 6071번 문제\n",
    "# 임의의 정수가 줄을 바꿔 계속 입력된다.\n",
    "# -2147483648 ~ +2147483647, 단 개수는 알 수 없다.\n",
    "# 0이 아니면 입력된 정수를 출력하고, 0이 입력되면 출력을 중단해보자.\n",
    "\n",
    "han = 1;\n",
    "\n",
    "while han!=0:\n",
    "    han = int(input());\n",
    "    if han!=0:\n",
    "        print(han);\n",
    "\n",
    "\n",
    "    "
   ]
  },
  {
   "cell_type": "code",
   "execution_count": 10,
   "metadata": {},
   "outputs": [
    {
     "name": "stdout",
     "output_type": "stream",
     "text": [
      "10\n",
      "10\n",
      "9\n",
      "8\n",
      "7\n",
      "6\n",
      "5\n",
      "4\n",
      "3\n",
      "2\n",
      "1\n"
     ]
    }
   ],
   "source": [
    "# 6072번 문제\n",
    "# 정수(1 ~ 100) 1개가 입력되었을 때 카운트다운을 출력해보자.\n",
    "\n",
    "han = int(input());\n",
    "\n",
    "while han!=0:\n",
    "    print(han);\n",
    "    han = han-1;"
   ]
  },
  {
   "cell_type": "code",
   "execution_count": 11,
   "metadata": {},
   "outputs": [
    {
     "name": "stdout",
     "output_type": "stream",
     "text": [
      "5\n",
      "4\n",
      "3\n",
      "2\n",
      "1\n",
      "0\n"
     ]
    }
   ],
   "source": [
    "# 6073번 문제\n",
    "# 정수(1 ~ 100) 1개가 입력되었을 때 카운트다운을 출력해보자.\n",
    "# 입력값은 출력이 없고 0까지 출력된다.\n",
    "\n",
    "han = int(input());\n",
    "\n",
    "while han != 0:\n",
    "    han = han-1;\n",
    "    print(han);\n",
    "    "
   ]
  },
  {
   "cell_type": "code",
   "execution_count": 14,
   "metadata": {},
   "outputs": [
    {
     "name": "stdout",
     "output_type": "stream",
     "text": [
      "f\n",
      "a b c d e f "
     ]
    }
   ],
   "source": [
    "# 6074번 문제\n",
    "# 영문 소문자(a ~ z) 1개가 입력되었을 때,\n",
    "# a부터 그 문자까지의 알파벳을 순서대로 출력해보자.\n",
    "\n",
    "han = ord(input());\n",
    "uri = ord('a');\n",
    "\n",
    "while uri<=han:\n",
    "    print(chr(uri),end=' ')\n",
    "    uri += 1;             # uri = uri +1;"
   ]
  },
  {
   "cell_type": "code",
   "execution_count": 18,
   "metadata": {},
   "outputs": [
    {
     "name": "stdout",
     "output_type": "stream",
     "text": [
      "3\n",
      "0\n",
      "1\n",
      "2\n",
      "3\n"
     ]
    }
   ],
   "source": [
    "# 6075번 문제\n",
    "# 정수(0 ~ 100) 1개를 입력받아 0부터 그 수까지 순서대로 출력해보자.\n",
    "\n",
    "han = int(input());\n",
    "\n",
    "i = 0;\n",
    "\n",
    "while i<=han :\n",
    "    print(i);\n",
    "    i += 1;\n",
    "    "
   ]
  },
  {
   "cell_type": "code",
   "execution_count": 20,
   "metadata": {},
   "outputs": [
    {
     "name": "stdout",
     "output_type": "stream",
     "text": [
      "4\n",
      "0\n",
      "1\n",
      "2\n",
      "3\n",
      "4\n"
     ]
    }
   ],
   "source": [
    "# 6076번 문제\n",
    "# 정수(0 ~ 100) 1개를 입력받아 0부터 그 수까지 순서대로 출력해보자\n",
    "# for 사용\n",
    "\n",
    "han = int(input())\n",
    "\n",
    "for i in range(han+1):\n",
    "    print(i);\n",
    "    \n",
    "\"\"\"\n",
    "range(n) 은 0, 1, 2, ... , n-2, n-1 까지의 수열을 의미한다.\n",
    "예를 들어 range(3) 은 0, 1, 2 인 수열을 의미한다.\n",
    "\n",
    "for i in range(n) :    #range(n)에 들어있는(in) 각각의 수에 대해서(for) 순서대로 i에 저장해 가면서...\n",
    "이때의 for는 각각의 값에 대하여... 라는 for each 의 의미를 가진다고 생각할 수 있다.\n",
    "\n",
    "range(끝)\n",
    "range(시작, 끝)\n",
    "range(시작, 끝, 증감)\n",
    "형태로 수열을 표현할 수 있다. 시작 수는 포함이고, 끝 수는 포함되지 않는다. [시작, 끝)\n",
    "증감할 수를 작성하지 않으면 +1이 된다.\n",
    "\n",
    "\"\"\""
   ]
  },
  {
   "cell_type": "code",
   "execution_count": 38,
   "metadata": {},
   "outputs": [
    {
     "name": "stdout",
     "output_type": "stream",
     "text": [
      "5\n",
      "6\n"
     ]
    }
   ],
   "source": [
    "#### 6077번 문제\n",
    "# 정수(1 ~ 100) 1개를 입력받아 1부터 그 수까지 짝수의 합을 구해보자.\n",
    "\n",
    "han = int(input());\n",
    "\n",
    "sum = 0;\n",
    "\n",
    "for i in range (han+1):\n",
    "    \n",
    "    if i % 2 == 0 :\n",
    "        sum = sum + i; \n",
    "        \n",
    "print (sum);\n"
   ]
  },
  {
   "cell_type": "code",
   "execution_count": 51,
   "metadata": {},
   "outputs": [
    {
     "name": "stdout",
     "output_type": "stream",
     "text": [
      "5\n",
      "6\n"
     ]
    }
   ],
   "source": [
    "# 6077번 문제 (while을 사용한 풀이)\n",
    "\n",
    "han = int(input());\n",
    "\n",
    "while_sum = 0;\n",
    "\n",
    "i= 0;\n",
    "\n",
    "while i <= han :\n",
    "    if i % 2 == 0:\n",
    "        while_sum += i;\n",
    "    i += 1;\n",
    "    \n",
    "print(while_sum);\n"
   ]
  },
  {
   "cell_type": "code",
   "execution_count": 53,
   "metadata": {},
   "outputs": [
    {
     "name": "stdout",
     "output_type": "stream",
     "text": [
      "s\n",
      "s\n",
      "d\n",
      "d\n",
      "f\n",
      "f\n",
      "q\n",
      "q\n"
     ]
    }
   ],
   "source": [
    "# 6078번 문제\n",
    "\n",
    "# 영문 소문자 'q'가 입력될 때까지\n",
    "# 입력한 문자를 계속 출력하는 프로그램을 작성해보자.\n",
    "\n",
    "han = 'a';\n",
    "\n",
    "while han != 'q' :\n",
    "    han = input();\n",
    "    print(han);"
   ]
  },
  {
   "cell_type": "code",
   "execution_count": 58,
   "metadata": {},
   "outputs": [
    {
     "name": "stdout",
     "output_type": "stream",
     "text": [
      "55\n",
      "10\n"
     ]
    }
   ],
   "source": [
    "# 6079번 문제\n",
    "# 1, 2, 3 ... 을 계속 더해 나갈 때,\n",
    "# 그 합이 입력한 정수(0 ~ 1000)보다 같거나 작을 때까지만\n",
    "# 계속 더하는 프로그램을 작성해보자.\n",
    "\n",
    "# 즉, 1부터 n까지 정수를 계속 더해 나간다고 할 때,\n",
    "# 어디까지 더해야 입력한 수보다 같거나 커지는 지를 알아보고자하는 문제이다.\n",
    "\n",
    "han = int(input());\n",
    "uri = 0;\n",
    "\n",
    "for i in range(han+1):\n",
    "    if i<han :\n",
    "        uri += i;\n",
    "        \n",
    "    if uri>=han :\n",
    "        print(i);\n",
    "        break;"
   ]
  },
  {
   "cell_type": "code",
   "execution_count": 66,
   "metadata": {},
   "outputs": [
    {
     "name": "stdout",
     "output_type": "stream",
     "text": [
      "6 6\n",
      "1 1\n",
      "1 2\n",
      "1 3\n",
      "1 4\n",
      "1 5\n",
      "1 6\n",
      "2 1\n",
      "2 2\n",
      "2 3\n",
      "2 4\n",
      "2 5\n",
      "2 6\n",
      "3 1\n",
      "3 2\n",
      "3 3\n",
      "3 4\n",
      "3 5\n",
      "3 6\n",
      "4 1\n",
      "4 2\n",
      "4 3\n",
      "4 4\n",
      "4 5\n",
      "4 6\n",
      "5 1\n",
      "5 2\n",
      "5 3\n",
      "5 4\n",
      "5 5\n",
      "5 6\n",
      "6 1\n",
      "6 2\n",
      "6 3\n",
      "6 4\n",
      "6 5\n",
      "6 6\n"
     ]
    }
   ],
   "source": [
    "# 6080번 문제\n",
    "# 1부터 n까지, 1부터 m까지 숫자가 적힌 서로 다른 주사위 2개를 던졌을 때,\n",
    "# 나올 수 있는 모든 경우를 출력해보자.\n",
    "n,m = input().split();\n",
    "\n",
    "n = int(n);\n",
    "m = int(m);\n",
    "\n",
    "\n",
    "for i in range(1, n+1):\n",
    "    for j in range(1, m+1):\n",
    "        print(i, j);"
   ]
  },
  {
   "cell_type": "code",
   "execution_count": 67,
   "metadata": {},
   "outputs": [
    {
     "name": "stdout",
     "output_type": "stream",
     "text": [
      "A\n",
      "A*1=A\n",
      "A*2=14\n",
      "A*3=1E\n",
      "A*4=28\n",
      "A*5=32\n",
      "A*6=3C\n",
      "A*7=46\n",
      "A*8=50\n",
      "A*9=5A\n",
      "A*A=64\n",
      "A*B=6E\n",
      "A*C=78\n",
      "A*D=82\n",
      "A*E=8C\n",
      "A*F=96\n"
     ]
    }
   ],
   "source": [
    "# 6081번 문제\n",
    "# 16진수(0, 1, 2, 3, 4, 5, 6, 7, 8, 9, A, B, C, D, E, F)를 배운\n",
    "# 영일이는 16진수끼리 곱하는 16진수 구구단?에 대해서 궁금해졌다.\n",
    "\n",
    "# A, B, C, D, E, F 중 하나가 입력될 때,\n",
    "# 1부터 F까지 곱한 16진수 구구단의 내용을 출력해보자.\n",
    "# (단, A ~ F 까지만 입력된다.)\n",
    "\n",
    "han = int(input(), 16);\n",
    "\n",
    "for i in range (1, 16):\n",
    "    print(\"%X*%X=%X\" %(han, i, (han*i)));"
   ]
  },
  {
   "cell_type": "code",
   "execution_count": 83,
   "metadata": {},
   "outputs": [
    {
     "name": "stdout",
     "output_type": "stream",
     "text": [
      "30\n",
      "1 2 X 4 5 X 7 8 X 10 11 12 X 14 15 X 17 18 X 20 21 22 X 24 25 X 27 28 X 30 "
     ]
    }
   ],
   "source": [
    "# 6081번 문제\n",
    "# 친구들과 함께 3 6 9 게임을 하던 영일이는 잦은 실수 때문에 계속해서 벌칙을 받게 되었다.\n",
    "# 3 6 9 게임의 왕이 되기 위한 369 마스터 프로그램을 작성해 보자.\n",
    "\n",
    "\"\"\"\n",
    "여러 사람이 순서를 정한 후, 순서대로 수를 부르는 게임이다.\n",
    "만약 3, 6, 9 가 들어간 수를 자신이 불러야 하는 상황이라면, 수를 부르는 대신 \"박수(X)\" 를 쳐야 한다.\n",
    "33과 같이 3,6,9가 두 번 들어간 수 일때, \"짝짝\"과 같이 박수를 두 번 치는 형태도 있다. \n",
    "\"\"\"\n",
    "\n",
    "han = int(input());\n",
    "\n",
    "for i in range (1, han+1):\n",
    "    if (i % 10 == 3) or (i % 10 == 6) or (i % 10 == 9):\n",
    "        print('X',end=' ');\n",
    "    else :\n",
    "        print(i,end=' ');\n",
    "    \n",
    "        "
   ]
  },
  {
   "cell_type": "code",
   "execution_count": null,
   "metadata": {},
   "outputs": [],
   "source": []
  },
  {
   "cell_type": "code",
   "execution_count": null,
   "metadata": {},
   "outputs": [],
   "source": []
  },
  {
   "cell_type": "code",
   "execution_count": null,
   "metadata": {},
   "outputs": [],
   "source": []
  },
  {
   "cell_type": "code",
   "execution_count": null,
   "metadata": {},
   "outputs": [],
   "source": []
  },
  {
   "cell_type": "code",
   "execution_count": null,
   "metadata": {},
   "outputs": [],
   "source": []
  },
  {
   "cell_type": "code",
   "execution_count": null,
   "metadata": {},
   "outputs": [],
   "source": []
  },
  {
   "cell_type": "code",
   "execution_count": null,
   "metadata": {},
   "outputs": [],
   "source": []
  },
  {
   "cell_type": "code",
   "execution_count": null,
   "metadata": {},
   "outputs": [],
   "source": []
  },
  {
   "cell_type": "code",
   "execution_count": null,
   "metadata": {},
   "outputs": [],
   "source": []
  },
  {
   "cell_type": "code",
   "execution_count": null,
   "metadata": {},
   "outputs": [],
   "source": []
  },
  {
   "cell_type": "code",
   "execution_count": null,
   "metadata": {},
   "outputs": [],
   "source": []
  },
  {
   "cell_type": "code",
   "execution_count": null,
   "metadata": {},
   "outputs": [],
   "source": []
  },
  {
   "cell_type": "code",
   "execution_count": null,
   "metadata": {},
   "outputs": [],
   "source": []
  },
  {
   "cell_type": "code",
   "execution_count": null,
   "metadata": {},
   "outputs": [],
   "source": []
  }
 ],
 "metadata": {
  "kernelspec": {
   "display_name": "Python 3",
   "language": "python",
   "name": "python3"
  },
  "language_info": {
   "codemirror_mode": {
    "name": "ipython",
    "version": 3
   },
   "file_extension": ".py",
   "mimetype": "text/x-python",
   "name": "python",
   "nbconvert_exporter": "python",
   "pygments_lexer": "ipython3",
   "version": "3.8.5"
  }
 },
 "nbformat": 4,
 "nbformat_minor": 4
}
